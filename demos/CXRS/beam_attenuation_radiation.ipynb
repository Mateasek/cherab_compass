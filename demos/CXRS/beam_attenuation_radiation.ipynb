{
 "cells": [
  {
   "cell_type": "markdown",
   "metadata": {},
   "source": [
    "# Goals\n",
    "- learn how to simulate beams in plasma\n",
    "- get specra radiated by active CX between beam and plasma impurities\n",
    "- get the beam attenuation\n",
    "- show off with camera picture\n",
    "\n",
    "# Contents\n",
    "- Basic initiation and usage of cherab.core.Beam class\n",
    "- Simulation of beam attenuation with cherab.core.model.SingleRayAttenuator\n",
    "- Adding CX lines wiith cherab.core.model.BeamCXLine\n"
   ]
  },
  {
   "cell_type": "code",
   "execution_count": null,
   "metadata": {},
   "outputs": [],
   "source": [
    "from cherab.compass.equilibrium.equilibrium import COMPASSEquilibrium\n",
    "from raysect.optical import World\n",
    "from cherab.openadas import OpenADAS\n",
    "from cherab.core import Beam, Plasma, Species, Maxwellian\n",
    "from cherab.core.atomic import elements, Line, deuterium, carbon, boron\n",
    "from cherab.core.math import VectorAxisymmetricMapper, Interpolate1DCubic\n",
    "from cherab.core.math.function import ScalarToVectorFunction2D\n",
    "from raysect.core import Vector3D, Point3D, translate, rotate_basis\n",
    "from cherab.core.model import SingleRayAttenuator, BeamCXLine\n",
    "from raysect.optical.observer import PinholeCamera, FibreOptic\n",
    "\n",
    "import numpy as np\n",
    "from scipy.constants import atomic_mass, electron_mass\n",
    "import matplotlib.pyplot as plt"
   ]
  },
  {
   "cell_type": "markdown",
   "metadata": {},
   "source": [
    "get equilibrium obejct, generate plasma profiles and interpolators"
   ]
  },
  {
   "cell_type": "code",
   "execution_count": null,
   "metadata": {},
   "outputs": [],
   "source": [
    "#Double parabolic function for plasma profile generation\n",
    "def doubleparabola(r, Centre, Edge, p, q):\n",
    "        return (Centre - Edge) * np.power((1 - np.power((r - r.min()) / (r.max() - r.min()), p)), q) + Edge"
   ]
  },
  {
   "cell_type": "code",
   "execution_count": null,
   "metadata": {},
   "outputs": [],
   "source": [
    "#get equilibrium\n",
    "path = \"../data/efit_17636.h5\"\n",
    "shot_time = 1.125\n",
    "\n",
    "# get equilibrium\n",
    "equilibrium = COMPASSEquilibrium(path=path)\n",
    "equilibrium_slice = equilibrium.time(shot_time)\n",
    "psin_2d = equilibrium_slice.psi_normalised\n",
    "#psin_3d = AxisymmetricMapper(equilibrium.psi_normalised)\n"
   ]
  },
  {
   "cell_type": "code",
   "execution_count": null,
   "metadata": {},
   "outputs": [],
   "source": [
    "##### plasma profiles\n",
    "psin_1d = np.linspace(0,1,100) #1d psi profile\n",
    "\n",
    "te_profile = doubleparabola(psin_1d, 1000, 0, 2, 2) # 1d te profile\n",
    "te_3d = equilibrium_slice.map3d((psin_1d, te_profile))\n",
    "\n",
    "ne_profile = doubleparabola(psin_1d, 12e19, 0, 2, 2) # 1d ne profile\n",
    "ne_3d = equilibrium_slice.map3d((psin_1d, ne_profile))\n",
    "\n",
    "ti_profile = doubleparabola(psin_1d, 500, 0, 2, 2) # 1d ti profile\n",
    "ti_3d = equilibrium_slice.map3d((psin_1d, ti_profile))\n",
    "\n",
    "ni_profile = doubleparabola(psin_1d, 0.97*12e19, 0, 2, 2) # 1d ni profile\n",
    "ni_3d = equilibrium_slice.map3d((psin_1d, ni_profile))\n",
    "\n",
    "nc_profile = doubleparabola(psin_1d, 0.03*12e19, 0, 2, 2) # 1d nc6 profile\n",
    "nc_3d = equilibrium_slice.map3d((psin_1d, nc_profile))\n",
    "\n",
    "vy_profile = doubleparabola(psin_1d, -16e4, 0, 2, 2) # 1d velocity profile\n",
    "vy = Interpolate1DCubic(psin_1d, vy_profile)\n",
    "\n",
    "vi_3d = equilibrium_slice.map3d((psin_1d, vy_profile))\n",
    "\n",
    "#function returning 3d velocity vector for cherab\n",
    "flow_velocity = lambda x, y, z: Vector3D(y * vi_3d(x, y, z), - x * vi_3d(x, y, z), 0.) \\\n",
    "/ np.sqrt(x*x + y*y)"
   ]
  },
  {
   "cell_type": "markdown",
   "metadata": {},
   "source": [
    "## setting up plasma "
   ]
  },
  {
   "cell_type": "code",
   "execution_count": null,
   "metadata": {},
   "outputs": [],
   "source": [
    "# setup scenegraph, plasma and populate it with particle species\n",
    "world = World()\n",
    "\n",
    "adas = OpenADAS(permit_extrapolation=True)\n",
    "\n",
    "plasma = Plasma(parent=world)\n",
    "\n",
    "d_distribution = Maxwellian(ni_3d, ti_3d, flow_velocity, deuterium.atomic_weight * atomic_mass)\n",
    "c6_distribution = Maxwellian(nc_3d, ti_3d, flow_velocity, carbon.atomic_weight * atomic_mass)\n",
    "b5_distribution = Maxwellian(nc_3d, ti_3d, flow_velocity, boron.atomic_weight * atomic_mass)\n",
    "\n",
    "e_distribution = Maxwellian(ne_3d, te_3d, flow_velocity, electron_mass)\n",
    "\n",
    "d_species = Species(deuterium, 1, d_distribution)\n",
    "c6_species = Species(carbon, 6, c6_distribution)\n",
    "b5_species = Species(boron, 5, b5_distribution)\n",
    "\n",
    "plasma.electron_distribution = e_distribution\n",
    "plasma.composition = [d_species, c6_species, b5_species]\n",
    "plasma.b_field = VectorAxisymmetricMapper(equilibrium_slice.b_field)"
   ]
  },
  {
   "cell_type": "markdown",
   "metadata": {},
   "source": [
    "# Setting up beams\n",
    "- each beam component has to be a separate object "
   ]
  },
  {
   "cell_type": "code",
   "execution_count": null,
   "metadata": {},
   "outputs": [],
   "source": [
    "beam_radius = 1.2\n",
    "beam_torangle = np.deg2rad(45)\n",
    "integration_step = 0.01\n",
    "\n",
    "beam_position = Point3D(-1.018, 1.81, 0)\n",
    "beam_direction = Vector3D(1, -1, 0).normalise()\n",
    "beams =[]\n",
    "for comp, rat in zip([1, 2, 3], [0.8, 0.15, 0.05]):\n",
    "    # setup scenegraph\n",
    "    beam = Beam(parent=world, transform=translate(beam_position.x, beam_position.y, beam_position.z) *\n",
    "                                        rotate_basis(beam_direction, Vector3D(0, 0, 1)))\n",
    "    beam.plasma = plasma\n",
    "    beam.atomic_data = adas\n",
    "    beam.energy = 40000/comp\n",
    "    beam.power = 35e4*rat\n",
    "    beam.element = elements.deuterium\n",
    "    beam.sigma = 0.02\n",
    "    beam.divergence_x = 0.5\n",
    "    beam.divergence_y = 0.5\n",
    "    beam.length = 5.0\n",
    "    beam.attenuator = SingleRayAttenuator(clamp_to_zero=True)\n",
    "    beam.models = [\n",
    "        BeamCXLine(Line(elements.deuterium, 0, (3, 2))),\n",
    "        BeamCXLine(Line(elements.carbon, 5, (8, 7))),\n",
    "        BeamCXLine(Line(elements.boron, 4, (7, 6))),\n",
    "    ]\n",
    "    beam.integrator.step = integration_step\n",
    "    beam.integrator.min_samples = 5\n",
    "    beams.append(beam)"
   ]
  },
  {
   "cell_type": "markdown",
   "metadata": {},
   "source": [
    "# Beam Attenuation"
   ]
  },
  {
   "cell_type": "code",
   "execution_count": null,
   "metadata": {},
   "outputs": [],
   "source": [
    "b0, b1, b2 = beams\n",
    "b0_density = []\n",
    "b1_density = []\n",
    "b2_density = []\n",
    "beam_distance = np.arange(1.5, 2.5, 0.01)\n",
    "radius = []\n",
    "\n",
    "for z in beam_distance:\n",
    "    pnt = Point3D(0, 0, z).transform(beam.to(world))\n",
    "    radius.append(np.sqrt(pnt.x**2 + pnt.y**2))\n",
    "    b0_density.append(b0.attenuator.density(0, 0, z))\n",
    "    b1_density.append(b1.attenuator.density(0, 0, z))\n",
    "    b2_density.append(b2.attenuator.density(0, 0, z))\n",
    "\n",
    "plt.figure()\n",
    "plt.plot(beam_distance, b0_density, label='Full energy')\n",
    "plt.plot(beam_distance, b1_density, label='Half energy')\n",
    "plt.plot(beam_distance, b2_density, label='Third energy')\n",
    "plt.legend()\n",
    "\n",
    "plt.figure()\n",
    "plt.plot(radius, b0_density, label='Full energy')\n",
    "plt.plot(radius, b1_density, label='Half energy')\n",
    "plt.plot(radius, b2_density, label='Third energy')\n",
    "plt.legend()\n"
   ]
  },
  {
   "cell_type": "markdown",
   "metadata": {},
   "source": [
    "# Simulation of CXRS diagnostic\n",
    "- Added fibres observing beam along the path to get spectra evolution"
   ]
  },
  {
   "cell_type": "code",
   "execution_count": null,
   "metadata": {},
   "outputs": [],
   "source": [
    "ferule_position = Point3D(0.565, 0.565, 0)\n",
    "\n",
    "ferule = []\n",
    "for i in np.linspace(1.5, 2, 5):\n",
    "    spot = beam_position + beam_direction * i\n",
    "    ferule.append(FibreOptic(acceptance_angle=1, radius=0.01, parent=world,\n",
    "                   transform=translate(ferule_position.x,\n",
    "                                       ferule_position.y,\n",
    "                                       ferule_position.z) *\n",
    "                             rotate_basis(ferule_position.vector_to(spot), Vector3D(0, 0, 1))))\n",
    "    ferule[-1].min_wavelength = 490\n",
    "    ferule[-1].max_wavelength = 500\n",
    "    ferule[-1].spectral_bins = 1000\n",
    "    ferule[-1].pixel_samples = 1000\n",
    "    ferule[-1].observe()\n"
   ]
  },
  {
   "cell_type": "markdown",
   "metadata": {},
   "source": [
    "# Camera Observation ov beam emission\n",
    "How would a camera see the beam emission and its attenuation"
   ]
  },
  {
   "cell_type": "code",
   "execution_count": null,
   "metadata": {},
   "outputs": [],
   "source": [
    "plt.ion()\n",
    "\n",
    "camera = PinholeCamera((128, 128), parent=world, transform=translate(1, 1, 0)*\n",
    "                                                           rotate_basis(Vector3D(-0.94, -0.34, 0), Vector3D(0, 0, 1)))\n",
    "camera.spectral_rays = 1\n",
    "camera.spectral_bins = 15\n",
    "camera.pixel_samples = 100\n"
   ]
  },
  {
   "cell_type": "code",
   "execution_count": null,
   "metadata": {},
   "outputs": [],
   "source": [
    "plt.ion()\n",
    "camera.observe()"
   ]
  }
 ],
 "metadata": {
  "kernelspec": {
   "display_name": "Python 3",
   "language": "python",
   "name": "python3"
  },
  "language_info": {
   "codemirror_mode": {
    "name": "ipython",
    "version": 3
   },
   "file_extension": ".py",
   "mimetype": "text/x-python",
   "name": "python",
   "nbconvert_exporter": "python",
   "pygments_lexer": "ipython3",
   "version": "3.7.0"
  }
 },
 "nbformat": 4,
 "nbformat_minor": 2
}
