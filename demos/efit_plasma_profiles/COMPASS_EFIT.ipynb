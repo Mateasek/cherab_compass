{
 "cells": [
  {
   "cell_type": "markdown",
   "metadata": {},
   "source": [
    "# Goals\n",
    "- get familiar with ways of how to get compass plasma equilibrium reconstruction\n",
    "- get raysect equilibrium time slice which can be later use with cherab & raysect\n",
    "\n",
    "# content\n",
    "- creating a COMPASSEquilibrium instance using CDB compass shot number\n",
    "- creating a COMPASSEquilibrium instance using path to a compass efit reconstruction file"
   ]
  },
  {
   "cell_type": "code",
   "execution_count": null,
   "metadata": {},
   "outputs": [],
   "source": [
    "from cherab.compass.equilibrium.equilibrium import COMPASSEquilibrium\n",
    "from os.path import expanduser\n",
    "from cherab.tools.equilibrium import plot_equilibrium"
   ]
  },
  {
   "cell_type": "markdown",
   "metadata": {},
   "source": [
    "## 1. Create COMPASSEquilibrium instance using path to an efit file\n",
    "-this way of creating the instance is useful when working without the access to CDB"
   ]
  },
  {
   "cell_type": "code",
   "execution_count": null,
   "metadata": {},
   "outputs": [],
   "source": [
    "path = \"../data/efit_17636.h5\" # path to the efit file\n",
    "\n",
    "equilibrium = COMPASSEquilibrium(path=path)\n"
   ]
  },
  {
   "cell_type": "markdown",
   "metadata": {},
   "source": [
    "## 2. Create COMPASSEquilibrium instance using CDB and shot number\n",
    "-this way of creating the instance is useful when having the convenient access to CDB"
   ]
  },
  {
   "cell_type": "code",
   "execution_count": null,
   "metadata": {},
   "outputs": [],
   "source": [
    "shot_number = 17636\n",
    "equilibrium = COMPASSEquilibrium(shot_number=shot_number)"
   ]
  },
  {
   "cell_type": "markdown",
   "metadata": {},
   "source": [
    "# 3. Equilibrium time-slice instance for Raysect & Cherab\n",
    "- Raysect & Cherub don't do time evolutions and thus work with single time-slices\n",
    "- cherab.tools.equilibrium.EFITEquilibrium class allows easy handling of equilibrium data when diving deeper into odels\n",
    "- EFITEquilibrium instance offers number of nifty functions and is worth of exploring\n",
    "\n",
    "EFITEquilibrium instance can be obtained by asking for a single time-slice:"
   ]
  },
  {
   "cell_type": "code",
   "execution_count": null,
   "metadata": {},
   "outputs": [],
   "source": [
    "shot_time = 1.135\n",
    "eq_slice = equilibrium.time(shot_time)"
   ]
  },
  {
   "cell_type": "markdown",
   "metadata": {},
   "source": [
    "function cherab.tools.equilibrium.plot_equilibrium provides a quick way of checking the equilibrium"
   ]
  },
  {
   "cell_type": "code",
   "execution_count": null,
   "metadata": {},
   "outputs": [],
   "source": [
    "plot_equilibrium(equilibrium=eq_slice, detail=True, resolution=0.01)"
   ]
  }
 ],
 "metadata": {
  "kernelspec": {
   "display_name": "Python 3",
   "language": "python",
   "name": "python3"
  },
  "language_info": {
   "codemirror_mode": {
    "name": "ipython",
    "version": 3
   },
   "file_extension": ".py",
   "mimetype": "text/x-python",
   "name": "python",
   "nbconvert_exporter": "python",
   "pygments_lexer": "ipython3",
   "version": "3.7.0"
  }
 },
 "nbformat": 4,
 "nbformat_minor": 2
}
