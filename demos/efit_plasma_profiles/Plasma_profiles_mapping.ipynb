{
 "cells": [
  {
   "cell_type": "markdown",
   "metadata": {},
   "source": [
    "# Goals\n",
    "- Learn how to create 3D interpolators for plasma pprofiles to be later used by cherab and raysect\n",
    "- See the logic of creating a 3D interpolator from a 1D profile\n",
    "\n",
    "# Contents\n",
    "- Usage of builtin EFITEquilibrium functions to generate interpolatots automatically\n",
    "- Usage of Interpolate1DCubic, Interpolate2DCubic, IsoMapper2D, AxisymmetricMapper to create 3D interpolator step by step"
   ]
  },
  {
   "cell_type": "code",
   "execution_count": null,
   "metadata": {},
   "outputs": [],
   "source": [
    "from cherab.core.math import Interpolate1DCubic, Interpolate2DCubic, IsoMapper2D, AxisymmetricMapper\n",
    "from cherab.compass.equilibrium.equilibrium import COMPASSEquilibrium\n",
    "\n",
    "import numpy as np\n",
    "from os.path import expanduser\n",
    "import matplotlib.pyplot as plt"
   ]
  },
  {
   "cell_type": "markdown",
   "metadata": {},
   "source": [
    "Let's just use double parabolic profile for a plasma profile:\n",
    "\n",
    "$Q(r) = (Q_{rmin} - Q_{rmax}) \\left(1 - \\left(\\frac{r - r_{min}}{r_{max} - r_{min}}\\right)^p\\right) ^ q + Edge$"
   ]
  },
  {
   "cell_type": "code",
   "execution_count": null,
   "metadata": {},
   "outputs": [],
   "source": [
    "def doubleparabola(r, Centre, Edge, p, q):\n",
    "        return (Centre - Edge) * np.power((1 - np.power((r - r.min()) / (r.max() - r.min()), p)), q) + Edge"
   ]
  },
  {
   "cell_type": "markdown",
   "metadata": {},
   "source": [
    "Generate the basic plasma profiles with normalized poloidal flux as a free variable. If the profiles do not end with 0 at the edge, effects cause by extrapolating the plasma quantity outside the interpolation region (here the confined plasma) should be watched for."
   ]
  },
  {
   "cell_type": "code",
   "execution_count": null,
   "metadata": {},
   "outputs": [],
   "source": [
    "psi_1d = np.linspace(0,1,100) # 1d psi coordinate to use for mapping \n",
    "\n",
    "#generate electon temperature profile\n",
    "te_core = 1200 # electron temperature in the plasma core\n",
    "te_edge = 40 # if this is not 0 extrapolation should be checked\n",
    "te_p = 2 #profile shape parameter\n",
    "te_q = 2 # profile shappe parameter\n",
    "te_profile = doubleparabola(psi_1d, te_core, te_edge, te_p, te_q)\n",
    "\n",
    "#now electron density profile\n",
    "ne_core = 8e19 # electron temperature in the plasma core\n",
    "ne_edge = 1e19 # if this is not 0 extrapolation should be checked\n",
    "ne_p = 4\n",
    "ne_q = 2\n",
    "ne_profile = doubleparabola(psi_1d, ne_core, ne_edge, ne_p, ne_q)"
   ]
  },
  {
   "cell_type": "code",
   "execution_count": null,
   "metadata": {},
   "outputs": [],
   "source": [
    "figprfs, ax = plt.subplots(figsize = (12,6))\n",
    "ax2 = ax.twinx()\n",
    "ax.plot(psi_1d, te_profile, \"C0\", label=\"Te\")\n",
    "ax.plot([],[], \"C3\", label=\"ne\")\n",
    "ax.set_xlabel(\"$\\psi_n$\")\n",
    "ax.set_ylabel(\"Te [eV]\")\n",
    "\n",
    "ax2.plot(psi_1d, ne_profile, \"C3\", label=\"ne\")\n",
    "ax2.set_ylabel(\"ne [m$^{-3}$]\")\n",
    "ax.legend()\n",
    "figprfs.tight_layout()"
   ]
  },
  {
   "cell_type": "markdown",
   "metadata": {},
   "source": [
    "Get equilibrium slice from COMPASS EFIT equilibrium example to use for mapping. If you wonder, look into COMPASS_EFIT.ipynb"
   ]
  },
  {
   "cell_type": "code",
   "execution_count": null,
   "metadata": {},
   "outputs": [],
   "source": [
    "path = \"../data/efit_17636.h5\" # path to the efit file\n",
    "shot_time=1.135\n",
    "equilibrium = COMPASSEquilibrium(path=path)\n",
    "equilibrium_slice = equilibrium.time(shot_time)"
   ]
  },
  {
   "cell_type": "markdown",
   "metadata": {},
   "source": [
    "# Generate 3D profile objects\n",
    "\n",
    "Now we have to know how Raysect and Cherab treat things. All quantities (plasma profiles) are interpolators in a 3D cartesian space. This means we need to map our 1d profiles into 3d using a plasma equilibrium (example of compass EFIT in COMPASS_EFIT). "
   ]
  },
  {
   "cell_type": "markdown",
   "metadata": {},
   "source": [
    "## 1. Easy way using built-in functions of the EFITEquilibrium class\n",
    "EFITEquilibrium.map3d() and EFITEquilibrium.map2d() functions return 3d and 2d interpolators, respectively."
   ]
  },
  {
   "cell_type": "code",
   "execution_count": null,
   "metadata": {},
   "outputs": [],
   "source": [
    "te = equilibrium_slice.map3d((psi_1d, te_profile))\n",
    "ne = equilibrium_slice.map3d((psi_1d, ne_profile))\n"
   ]
  },
  {
   "cell_type": "markdown",
   "metadata": {},
   "source": [
    "Now lets use the created 3D interpolators to get 2d maps to see the result"
   ]
  },
  {
   "cell_type": "code",
   "execution_count": null,
   "metadata": {},
   "outputs": [],
   "source": [
    "xrange = np.arange(equilibrium_slice.r_data.min(), equilibrium_slice.r_data.max(), 0.01)\n",
    "yrange = np.arange(equilibrium_slice.z_data.min(), equilibrium_slice.z_data.max(), 0.01)\n",
    "psi_test = np.zeros((yrange.shape[0], xrange.shape[0]))\n",
    "te_test = np.zeros((yrange.shape[0], xrange.shape[0]))\n",
    "ne_test = np.zeros((yrange.shape[0], xrange.shape[0]))\n",
    "\n",
    "for i, x in enumerate(xrange):\n",
    "    for j, y in enumerate(yrange):\n",
    "        psi_test[j, i] = equilibrium_slice.psi_normalised(x, y)\n",
    "        te_test[j, i] = te(x, 0, y)\n",
    "        ne_test[j, i] = ne(x, 0, y)"
   ]
  },
  {
   "cell_type": "code",
   "execution_count": null,
   "metadata": {},
   "outputs": [],
   "source": [
    "fig_profiles, ax = plt.subplots(1, 2, figsize=(10,10))\n",
    "ax[0].contourf(xrange, yrange, te_test,20)\n",
    "ax[0].contour(xrange, yrange, psi_test,10, colors=\"w\")\n",
    "ax[0].set_title(\"te\")\n",
    "ax[0].set_aspect(1)\n",
    "ax[0].plot(equilibrium_slice.limiter_polygon[:,0], equilibrium_slice.limiter_polygon[:,1],\"-r\")\n",
    "\n",
    "ax[1].contourf(xrange, yrange, ne_test,20)\n",
    "ax[1].contour(xrange, yrange, psi_test,10, colors=\"w\")\n",
    "ax[1].plot(equilibrium_slice.limiter_polygon[:,0], equilibrium_slice.limiter_polygon[:,1],\"-r\")\n",
    "ax[1].set_title(\"ne\")\n",
    "ax[1].set_aspect(1)"
   ]
  },
  {
   "cell_type": "markdown",
   "metadata": {},
   "source": [
    "##  2. Longer, harder, more boring but more instructive way\n",
    "- To show the logic behind mapping and interpolating\n",
    "\n",
    "First we need to get the ppsi normaliized 2d map and its coordinates"
   ]
  },
  {
   "cell_type": "code",
   "execution_count": null,
   "metadata": {},
   "outputs": [],
   "source": [
    "#get the 2d poloidal psi map and r and z coordinates\n",
    "psin_2d_profile = ((equilibrium_slice.psi_data - equilibrium_slice.psi_axis)/\n",
    "        (equilibrium_slice.psi_lcfs - equilibrium_slice.psi_axis)) #get a psi normalized 2d map\n",
    "psin_2d_r = equilibrium_slice.r_data\n",
    "psin_2d_z = equilibrium_slice.z_data\n",
    "\n",
    "psin_2d = Interpolate2DCubic(psin_2d_r, psin_2d_z, psin_2d_profile)\n"
   ]
  },
  {
   "cell_type": "markdown",
   "metadata": {},
   "source": [
    "And then in steps from 1D to 3D:\n",
    "1. interpolation of our 1d profiles using built in cherab interpolator Interpolate1DCubic\n",
    "2. mapping of the interpolated profile onto the equilibrium using IsoMapper2D (Interpolate2DCubic can be used if we have 2D profiles directly)\n",
    "3.  Exploiting the tokamak axisymmetry to map to 3D by using AxisymmetricMapper. The 3D objects are needed for raytracing.\n",
    "\n",
    "Beware of the value of the paramer extrapolate=True, allowing extrapolations in the profiles. \n"
   ]
  },
  {
   "cell_type": "code",
   "execution_count": null,
   "metadata": {},
   "outputs": [],
   "source": [
    "#create 3D electron temperature plasma profiles\n",
    "te_1d = Interpolate1DCubic(psi_1d, te_profile, extrapolate=True) #interpolate profile\n",
    "te_2d = IsoMapper2D(equilibrium_slice.psi_normalised, te_1d) #map to 2D\n",
    "te_3d = AxisymmetricMapper(te_2d) #map to 3D\n",
    "\n",
    "#and now electron density\n",
    "ne_1d = Interpolate1DCubic(psi_1d, ne_profile, extrapolate=True) #interpolate profile\n",
    "ne_2d = IsoMapper2D(psin_2d, ne_1d) #map to 2D\n",
    "ne_3d = AxisymmetricMapper(ne_2d) #map to 3D\n",
    "\n"
   ]
  },
  {
   "cell_type": "markdown",
   "metadata": {},
   "source": [
    "Now lets check the outcomes"
   ]
  },
  {
   "cell_type": "code",
   "execution_count": null,
   "metadata": {},
   "outputs": [],
   "source": [
    "xrange = np.arange(equilibrium_slice.r_data.min(), equilibrium_slice.r_data.max(), 0.01)\n",
    "yrange = np.arange(equilibrium_slice.z_data.min(), equilibrium_slice.z_data.max(), 0.01)\n",
    "psi_test = np.zeros((yrange.shape[0], xrange.shape[0]))\n",
    "te_test = np.zeros((yrange.shape[0], xrange.shape[0]))\n",
    "ne_test = np.zeros((yrange.shape[0], xrange.shape[0]))\n",
    "\n",
    "for i, x in enumerate(xrange):\n",
    "    for j, y in enumerate(yrange):\n",
    "        psi_test[j, i] = equilibrium_slice.psi_normalised(x, y)\n",
    "        te_test[j, i] = te_3d(x, 0, y)\n",
    "        ne_test[j, i] = ne_3d(x, 0, y)"
   ]
  },
  {
   "cell_type": "code",
   "execution_count": null,
   "metadata": {},
   "outputs": [],
   "source": [
    "fig_profiles, ax = plt.subplots(1, 2, figsize=(10,10))\n",
    "ax[0].contourf(xrange, yrange, te_test,20)\n",
    "ax[0].contour(xrange, yrange, psi_test,10, colors=\"w\")\n",
    "ax[0].set_title(\"te\")\n",
    "ax[0].set_aspect(1)\n",
    "ax[0].plot(equilibrium_slice.limiter_polygon[:,0], equilibrium_slice.limiter_polygon[:,1],\"-r\")\n",
    "\n",
    "ax[1].contourf(xrange, yrange, ne_test,20)\n",
    "ax[1].contour(xrange, yrange, psi_test,10, colors=\"w\")\n",
    "ax[1].plot(equilibrium_slice.limiter_polygon[:,0], equilibrium_slice.limiter_polygon[:,1],\"-r\")\n",
    "ax[1].set_title(\"ne\")\n",
    "ax[1].set_aspect(1)"
   ]
  }
 ],
 "metadata": {
  "kernelspec": {
   "display_name": "Python 3",
   "language": "python",
   "name": "python3"
  },
  "language_info": {
   "codemirror_mode": {
    "name": "ipython",
    "version": 3
   },
   "file_extension": ".py",
   "mimetype": "text/x-python",
   "name": "python",
   "nbconvert_exporter": "python",
   "pygments_lexer": "ipython3",
   "version": "3.7.0"
  }
 },
 "nbformat": 4,
 "nbformat_minor": 2
}
