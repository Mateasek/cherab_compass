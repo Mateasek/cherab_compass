{
 "cells": [
  {
   "cell_type": "code",
   "execution_count": null,
   "metadata": {},
   "outputs": [],
   "source": [
    "from cherab.core.math import Interpolate1DCubic, Interpolate2DCubic, IsoMapper2D, AxisymmetricMapper, VectorAxisymmetricMapper\n",
    "from cherab.compass.equilibrium.equilibrium import COMPASSEquilibrium\n",
    "from raysect.optical import World\n",
    "from cherab.openadas import OpenADAS\n",
    "from cherab.core import Plasma, Species, Maxwellian\n",
    "from cherab.core.atomic import elements, Line, deuterium, carbon, boron, helium\n",
    "from cherab.core.model import ExcitationLine, RecombinationLine\n",
    "\n",
    "from raysect.primitive import Cylinder\n",
    "from raysect.core import translate, rotate_basis, Vector3D\n",
    "from raysect.optical.observer import FibreOptic\n",
    "\n",
    "from scipy.constants import atomic_mass, electron_mass\n",
    "import numpy as np\n",
    "from os.path import expanduser\"\"\n",
    "import matplotlib.pyplot as plt\n",
    "\n",
    "%matplotlib notebook"
   ]
  },
  {
   "cell_type": "code",
   "execution_count": null,
   "metadata": {
    "collapsed": true
   },
   "outputs": [],
   "source": [
    "boron_balance = np.loadtxt(\"../data/boron_balance.txt\", skiprows=1)\n",
    "carbon_balance = np.loadtxt(\"../data/carbon_balance.txt\", skiprows=1)\n",
    "helium_balance = np.loadtxt(\"../data/helium_balance.txt\", skiprows=1)\n",
    "deuterium_balance = np.loadtxt(\"../data/deuterium_balance.txt\", skiprows=1)"
   ]
  },
  {
   "cell_type": "code",
   "execution_count": null,
   "metadata": {
    "collapsed": true
   },
   "outputs": [],
   "source": [
    "def doubleparabola(r, Centre, Edge, p, q):\n",
    "        return (Centre - Edge) * np.power((1 - np.power((r - r.min()) / (r.max() - r.min()), p)), q) + Edge"
   ]
  },
  {
   "cell_type": "code",
   "execution_count": null,
   "metadata": {},
   "outputs": [],
   "source": [
    "figprfs, ax = plt.subplots(figsize = (8,4))\n",
    "ax.plot(deuterium_balance[:,0], deuterium_balance[:,3::])\n",
    "#ax.set_xlim((0,100))\n",
    "\n",
    "figprfs, ax = plt.subplots(figsize = (8,4))\n",
    "ax.plot(helium_balance[:,0],helium_balance[:,3::])\n",
    "#ax.set_xlim((0,100))\n",
    "\n",
    "figprfs, ax = plt.subplots(figsize = (8,4))\n",
    "ax.plot(carbon_balance[:,1],carbon_balance[:,3::])\n",
    "ax.set_xlim((0,200))\n",
    "\n",
    "figprfs, ax = plt.subplots(figsize = (8,4))\n",
    "ax.plot(boron_balance[:,1],boron_balance[:,3::])\n",
    "ax.set_xlim((0,400))"
   ]
  },
  {
   "cell_type": "code",
   "execution_count": null,
   "metadata": {
    "collapsed": true
   },
   "outputs": [],
   "source": [
    "path = \"../data/efit_17636.h5\" # path to the efit file\n",
    "shot_time=1.135\n",
    "equilibrium = COMPASSEquilibrium(path=path)\n",
    "equilibrium_slice = equilibrium.time(shot_time)"
   ]
  },
  {
   "cell_type": "code",
   "execution_count": null,
   "metadata": {
    "collapsed": true
   },
   "outputs": [],
   "source": [
    "world = World()\n",
    "\n",
    "adas = OpenADAS(permit_extrapolation=True)\n",
    "\n",
    "plasma = Plasma(parent=world)\n",
    "plasma.geometry = Cylinder(0.8, 0.8,parent = world,transform = translate(0, 0, -0.4))\n",
    "plasma.atomic_data = adas"
   ]
  },
  {
   "cell_type": "code",
   "execution_count": null,
   "metadata": {
    "collapsed": true
   },
   "outputs": [],
   "source": [
    "psin_1d = deuterium_balance[:, 0]\n",
    "\n",
    "vi_profile = doubleparabola(psin_1d, 6e4, 0, 2, 2) # 1d velocity profile\n",
    "vi_3d = equilibrium_slice.map3d((psin_1d, vi_profile))\n",
    "\n",
    "#function returning 3d velocity vector for cherab\n",
    "flow_velocity = lambda x, y, z: Vector3D(y * vi_3d(x, y, z), - x * vi_3d(x, y, z), 0.) \\\n",
    "/ np.sqrt(x*x + y*y)\n",
    "\n",
    "#ions\n",
    "ti_1d = doubleparabola(psin_1d, 500, 0, 2, 2)\n",
    "ti_3d = equilibrium_slice.map3d((psin_1d, ti_1d))"
   ]
  },
  {
   "cell_type": "code",
   "execution_count": null,
   "metadata": {
    "collapsed": true
   },
   "outputs": [],
   "source": [
    "#setup electrons\n",
    "te_1d = deuterium_balance[:,1]\n",
    "ne_1d = deuterium_balance[:,2]\n",
    "\n",
    "te_3d = equilibrium_slice.map3d((psin_1d, te_1d))\n",
    "ne_3d = equilibrium_slice.map3d((psin_1d, ne_1d))\n",
    "plasma.electron_distribution =  Maxwellian(ne_3d, te_3d, flow_velocity, electron_mass)"
   ]
  },
  {
   "cell_type": "code",
   "execution_count": null,
   "metadata": {
    "collapsed": true
   },
   "outputs": [],
   "source": [
    "#we have to do the hard way, otherwise anuthing outside lcfs is ignored.\n",
    "#todo: use blending?\n",
    "d0n_1d = Interpolate1DCubic(psin_1d, deuterium_balance[:,3] * deuterium_balance[:,2], extrapolate=True) #interpolate profile\n",
    "d0n_2d = IsoMapper2D(equilibrium_slice.psi_normalised, d0n_1d) #map to 2D\n",
    "d0n_3d = AxisymmetricMapper(d0n_2d) #map to 3D\n",
    "d0_distribution = Maxwellian(d0n_3d, ti_3d, flow_velocity, deuterium.atomic_weight * atomic_mass)\n",
    "d0_species = Species(deuterium, 0, d0_distribution)\n",
    "\n",
    "d1n_1d = Interpolate1DCubic(psin_1d, deuterium_balance[:,4] * deuterium_balance[:,4], extrapolate=True) #interpolate profile\n",
    "d1n_2d = IsoMapper2D(equilibrium_slice.psi_normalised, d1n_1d) #map to 2D\n",
    "d1n_3d = AxisymmetricMapper(d1n_2d) #map to 3D\n",
    "d1_distribution = Maxwellian(d1n_3d, ti_3d, flow_velocity, deuterium.atomic_weight * atomic_mass)\n",
    "d1_species = Species(deuterium, 1, d1_distribution)\n"
   ]
  },
  {
   "cell_type": "code",
   "execution_count": null,
   "metadata": {
    "collapsed": true
   },
   "outputs": [],
   "source": [
    "#too: use mappers\n",
    "helium_3d = []\n",
    "helium_distribution = []\n",
    "helium_species = []\n",
    "helium_fraction = 0.1\n",
    "for i in range(3):\n",
    "    d1 = Interpolate1DCubic(helium_balance[:,0], helium_balance[:,i+3] * helium_balance[:,2]* helium_fraction , extrapolate=True)\n",
    "    d2 = IsoMapper2D(equilibrium_slice.psi_normalised, d1) #map to 2D\n",
    "    helium_3d.append(AxisymmetricMapper(d2)) #map to 3D\n",
    "    helium_distribution.append(Maxwellian(helium_3d[-1], ti_3d, flow_velocity,\n",
    "                                          helium.atomic_weight * atomic_mass))\n",
    "    helium_species.append(Species(helium, i, helium_distribution[-1]))\n",
    "    \n",
    "carbon_3d = []\n",
    "carbon_distribution = []\n",
    "carbon_species = []\n",
    "carbon_fraction = 0.03\n",
    "for i in range(7):\n",
    "    d1 = Interpolate1DCubic(carbon_balance[:,0], carbon_balance[:,i+3] * carbon_balance[:,2] * carbon_fraction, extrapolate=True)\n",
    "    d2 = IsoMapper2D(equilibrium_slice.psi_normalised, d1) #map to 2D\n",
    "    carbon_3d.append(AxisymmetricMapper(d2)) #map to 3D\n",
    "    carbon_distribution.append(Maxwellian(carbon_3d[-1], ti_3d, flow_velocity,\n",
    "                                          carbon.atomic_weight * atomic_mass))\n",
    "    carbon_species.append(Species(carbon, i, carbon_distribution[-1]))\n",
    "    \n",
    "boron_3d = []\n",
    "boron_distribution = []\n",
    "boron_species = []\n",
    "boron_fraction = 0.01\n",
    "for i in range(5):\n",
    "    d1 = Interpolate1DCubic(carbon_balance[:,0], boron_balance[:,i+3] * boron_balance[:,2] * boron_fraction, extrapolate=True)\n",
    "    d2 = IsoMapper2D(equilibrium_slice.psi_normalised, d1) #map to 2D\n",
    "    boron_3d.append(AxisymmetricMapper(d2)) #map to 3D\n",
    "    boron_distribution.append(Maxwellian(boron_3d[-1], ti_3d, flow_velocity,\n",
    "                                          boron.atomic_weight * atomic_mass))\n",
    "    boron_species.append(Species(boron, i, boron_distribution[-1]))"
   ]
  },
  {
   "cell_type": "code",
   "execution_count": null,
   "metadata": {
    "collapsed": true
   },
   "outputs": [],
   "source": [
    "xrange = np.arange(equilibrium_slice.r_data.min(), equilibrium_slice.r_data.max(), 0.005)\n",
    "yrange = np.arange(equilibrium_slice.z_data.min(), equilibrium_slice.z_data.max(), 0.005)\n",
    "psi_test = np.zeros((yrange.shape[0], xrange.shape[0]))\n",
    "c6n_test = np.zeros((yrange.shape[0], xrange.shape[0]))\n",
    "c5n_test = np.zeros((yrange.shape[0], xrange.shape[0]))\n",
    "c4n_test = np.zeros((yrange.shape[0], xrange.shape[0]))\n",
    "\n",
    "for i, x in enumerate(xrange):\n",
    "    for j, y in enumerate(yrange):\n",
    "        psi_test[j, i] = equilibrium_slice.psi_normalised(x, y)\n",
    "        c4n_test[j, i] = carbon_3d[-3](x, 0, y)\n",
    "        c5n_test[j, i] = carbon_3d[-2](x, 0, y)\n",
    "        c6n_test[j, i] = carbon_3d[-1](x, 0, y)"
   ]
  },
  {
   "cell_type": "code",
   "execution_count": null,
   "metadata": {},
   "outputs": [],
   "source": [
    "fig_profiles, ax = plt.subplots(1, 3)\n",
    "ax[0].contourf(xrange, yrange, c4n_test,20)\n",
    "ax[0].contour(xrange, yrange, psi_test,10, colors=\"w\")\n",
    "ax[0].plot(equilibrium_slice.lcfs_polygon[:,0], equilibrium_slice.lcfs_polygon[:,1],\"-C1\")\n",
    "ax[0].set_title(\"C4+\")\n",
    "ax[0].set_aspect(1)\n",
    "ax[0].plot(equilibrium_slice.limiter_polygon[:,0], equilibrium_slice.limiter_polygon[:,1],\"-r\")\n",
    "\n",
    "ax[1].contourf(xrange, yrange, c5n_test,20)\n",
    "ax[1].contour(xrange, yrange, psi_test,10, colors=\"w\")\n",
    "ax[1].plot(equilibrium_slice.lcfs_polygon[:,0], equilibrium_slice.lcfs_polygon[:,1],\"-C1\")\n",
    "ax[1].set_title(\"C5+\")\n",
    "ax[1].set_aspect(1)\n",
    "ax[1].plot(equilibrium_slice.limiter_polygon[:,0], equilibrium_slice.limiter_polygon[:,1],\"-r\")\n",
    "\n",
    "ax[2].contourf(xrange, yrange, c6n_test,20)\n",
    "ax[2].contour(xrange, yrange, psi_test,10, colors=\"w\")\n",
    "ax[2].plot(equilibrium_slice.lcfs_polygon[:,0], equilibrium_slice.lcfs_polygon[:,1],\"-C1\")\n",
    "ax[2].set_title(\"C6+\")\n",
    "ax[2].set_aspect(1)\n",
    "ax[2].plot(equilibrium_slice.limiter_polygon[:,0], equilibrium_slice.limiter_polygon[:,1],\"-r\")"
   ]
  },
  {
   "cell_type": "code",
   "execution_count": null,
   "metadata": {
    "collapsed": true
   },
   "outputs": [],
   "source": [
    "plasma.electron_distribution =  Maxwellian(ne_3d, te_3d, flow_velocity, electron_mass)\n",
    "plasma.composition = [d0_species, d1_species] + helium_species + carbon_species + boron_species\n",
    "plasma.b_field = VectorAxisymmetricMapper(equilibrium_slice.b_field)"
   ]
  },
  {
   "cell_type": "code",
   "execution_count": null,
   "metadata": {
    "collapsed": true
   },
   "outputs": [],
   "source": [
    "d_alpha = Line(deuterium, 0, (3, 2))\n",
    "#line_boron= Line(boron, 4, (7, 6))\n",
    "#line_carbon = Line(carbon, 5, (8, 7))\n",
    "#line_carbon = Line(carbon, 2,)"
   ]
  },
  {
   "cell_type": "code",
   "execution_count": null,
   "metadata": {
    "collapsed": true
   },
   "outputs": [],
   "source": [
    "plasma.models = [\n",
    "    ExcitationLine(d_alpha)\n",
    "]"
   ]
  },
  {
   "cell_type": "code",
   "execution_count": null,
   "metadata": {
    "collapsed": true
   },
   "outputs": [],
   "source": [
    "fibre = FibreOptic(acceptance_angle=1, radius=0.001, parent=world,\n",
    "                   transform=translate(0.56,0,0) *\n",
    "                             rotate_basis(Vector3D(-1, 0, 0), Vector3D(0, 0, 1)))\n",
    "fibre.min_wavelength = 490\n",
    "fibre.max_wavelength = 670\n",
    "fibre.spectral_bins = 2000\n",
    "fibre.pixel_samples = 2000\n",
    "\n"
   ]
  },
  {
   "cell_type": "code",
   "execution_count": null,
   "metadata": {},
   "outputs": [],
   "source": [
    "plt.ion()\n",
    "fibre.observe()\n"
   ]
  }
 ],
 "metadata": {
  "kernelspec": {
   "display_name": "Python [conda env:anaconda3.5]",
   "language": "python",
   "name": "conda-env-anaconda3.5-py"
  },
  "language_info": {
   "codemirror_mode": {
    "name": "ipython",
    "version": 3
   },
   "file_extension": ".py",
   "mimetype": "text/x-python",
   "name": "python",
   "nbconvert_exporter": "python",
   "pygments_lexer": "ipython3",
   "version": "3.5.5"
  }
 },
 "nbformat": 4,
 "nbformat_minor": 2
}
